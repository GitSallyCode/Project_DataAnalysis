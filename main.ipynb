{
 "cells": [
  {
   "cell_type": "code",
   "execution_count": 52,
   "id": "d291510f-fc25-4eab-8430-d313ceffd4d9",
   "metadata": {},
   "outputs": [
    {
     "name": "stdin",
     "output_type": "stream",
     "text": [
      "Enter your password:  0128\n"
     ]
    }
   ],
   "source": [
    "import psycopg2\n",
    "# Connect to your postgres DB\n",
    "passward = input(\"Enter your password: \")\n",
    "\n",
    "conn = psycopg2.connect(\n",
    "dbname=\"final_project\",\n",
    "user=\"postgres\",\n",
    "password=passward,\n",
    "host=\"localhost\",\n",
    "port=\"5432\"\n",
    ")\n",
    "cur = conn.cursor()"
   ]
  },
  {
   "cell_type": "code",
   "execution_count": 3,
   "id": "1e55a8e9-23e3-4f43-9345-b8c8dcdbd35e",
   "metadata": {},
   "outputs": [],
   "source": [
    "# Create a new table\n",
    "cur.execute(\n",
    "    \"CREATE TABLE population_growth (\"\n",
    "    \"id SERIAL PRIMARY KEY, \"\n",
    "    \"city varchar, \"\n",
    "    \"country varchar, \"\n",
    "    \"continent varchar, \"\n",
    "    \"population_2024 integer, \"\n",
    "    \"population_2023 integer, \"\n",
    "    \"growth_rate decimal)\"\n",
    ")\n",
    "# Commit the changes\n",
    "conn.commit()"
   ]
  },
  {
   "cell_type": "code",
   "execution_count": 53,
   "id": "13ac68ab-f8dd-4e0e-aa05-66e39168d7f7",
   "metadata": {
    "scrolled": true
   },
   "outputs": [],
   "source": [
    "import csv\n",
    "\n",
    "with open('/Users/hansaesbyeol/Desktop/final_p/Project_DataAnalysis/Wprld population growth rate by cities 2024.csv', newline='') as csvfile:\n",
    "    reader = csv.reader(csvfile, delimiter=',')\n",
    "    next(reader)\n",
    "    for row in reader:\n",
    "        values = [str(d) for d in row[:6]]\n",
    "        values[0] = \"'\" + values[0] + \"'\"\n",
    "        values[1] = \"'\" + values[1] + \"'\"\n",
    "        values[2] = \"'\" + values[2] + \"'\"\n",
    "        \n",
    "        values = \", \".join(values)\n",
    "\n",
    "        cur.execute(\n",
    "            \"INSERT INTO population_growth \"\n",
    "            \"(city, country, continent, population_2024, population_2023, growth_rate) \"\n",
    "            \"VALUES (\"+values+\")\"\n",
    "        )\n",
    "    conn.commit()\n"
   ]
  },
  {
   "cell_type": "code",
   "execution_count": 7,
   "id": "b6c24be4-c380-47f2-9ec3-60857d413663",
   "metadata": {},
   "outputs": [],
   "source": [
    "# Create a new table\n",
    "cur.execute(\n",
    "    \"CREATE TABLE global_country_development (\"\n",
    "    \"id SERIAL PRIMARY KEY, \"\n",
    "    \"country varchar, \"\n",
    "    \"average_score decimal, \"\n",
    "    \"safety_security decimal, \"\n",
    "    \"personel_freedom decimal, \"\n",
    "    \"governance decimal, \"\n",
    "    \"social_capital decimal, \"\n",
    "    \"investment_enviroment decimal, \"\n",
    "    \"enterprise_conditions decimal, \"\n",
    "    \"market_access_infrastructure decimal, \"\n",
    "    \"economic_quality decimal, \"\n",
    "    \"living_conditions decimal, \"\n",
    "    \"health decimal, \"\n",
    "    \"education decimal, \"\n",
    "    \"national_enviroment decimal)\"\n",
    ")\n",
    "# Commit the changes\n",
    "conn.commit()"
   ]
  },
  {
   "cell_type": "code",
   "execution_count": 36,
   "id": "45d87791-7de9-4500-a7d5-b6b71874e8a6",
   "metadata": {},
   "outputs": [],
   "source": [
    "import csv\n",
    "\n",
    "with open('/Users/hansaesbyeol/Desktop/final_p/Project_DataAnalysis/2023 Global Country Development & Prosperity Index.csv', newline='') as csvfile:\n",
    "    reader = csv.reader(csvfile, delimiter=',')\n",
    "    next(reader)\n",
    "    for row in reader:\n",
    "        values = [str(d) for d in row[:14]]\n",
    "        values[0] = \"'\" + values[0] + \"'\"\n",
    "        values = \", \".join(values)\n",
    "        \n",
    "        cur.execute(\n",
    "            \"INSERT INTO global_country_development \"\n",
    "            \"(country, average_score, safety_security, personel_freedom, governance, social_capital, investment_enviroment, enterprise_conditions, \"\n",
    "            \"market_access_infrastructure, economic_quality,living_conditions, health, education, national_enviroment) \"\n",
    "            \"VALUES (\"+values+\")\"\n",
    "        )\n",
    "        \n",
    "    conn.commit()"
   ]
  },
  {
   "cell_type": "code",
   "execution_count": null,
   "id": "3613b5a5-52df-44b3-8b8e-2ff0ab1ef20b",
   "metadata": {},
   "outputs": [],
   "source": []
  },
  {
   "cell_type": "code",
   "execution_count": null,
   "id": "052fbcaa-6cd1-44f3-aae5-9e7e38b0fdd5",
   "metadata": {},
   "outputs": [],
   "source": []
  },
  {
   "cell_type": "code",
   "execution_count": null,
   "id": "3b604958-ac16-4d6f-a136-ec37e9fd5e23",
   "metadata": {},
   "outputs": [],
   "source": []
  },
  {
   "cell_type": "code",
   "execution_count": null,
   "id": "5d5d4a89-dad3-4a75-a08f-676fb5c9d91f",
   "metadata": {},
   "outputs": [],
   "source": []
  },
  {
   "cell_type": "code",
   "execution_count": null,
   "id": "743a881c-aa66-4636-93ad-76510def10f0",
   "metadata": {},
   "outputs": [],
   "source": []
  },
  {
   "cell_type": "code",
   "execution_count": null,
   "id": "6afb6330-24bf-481a-be05-3a78c9f21ee8",
   "metadata": {},
   "outputs": [],
   "source": []
  },
  {
   "cell_type": "code",
   "execution_count": null,
   "id": "173dd990-7419-4b7d-a182-a91293dd6bd2",
   "metadata": {},
   "outputs": [],
   "source": []
  },
  {
   "cell_type": "code",
   "execution_count": null,
   "id": "7df88a30-6c46-4726-91c6-33f9408610d1",
   "metadata": {},
   "outputs": [],
   "source": []
  },
  {
   "cell_type": "code",
   "execution_count": null,
   "id": "7a662219-8c61-413c-be01-e3c8108d5f48",
   "metadata": {},
   "outputs": [],
   "source": []
  },
  {
   "cell_type": "code",
   "execution_count": null,
   "id": "8b559b6f-8276-40f4-9ad2-504614abcf8b",
   "metadata": {},
   "outputs": [],
   "source": []
  },
  {
   "cell_type": "code",
   "execution_count": null,
   "id": "7ea48bde-41d0-419a-89b8-9f9f95052444",
   "metadata": {},
   "outputs": [],
   "source": []
  },
  {
   "cell_type": "code",
   "execution_count": null,
   "id": "e877146e-c488-4e28-a804-705978596151",
   "metadata": {},
   "outputs": [],
   "source": []
  }
 ],
 "metadata": {
  "kernelspec": {
   "display_name": "Python 3 (ipykernel)",
   "language": "python",
   "name": "python3"
  },
  "language_info": {
   "codemirror_mode": {
    "name": "ipython",
    "version": 3
   },
   "file_extension": ".py",
   "mimetype": "text/x-python",
   "name": "python",
   "nbconvert_exporter": "python",
   "pygments_lexer": "ipython3",
   "version": "3.11.7"
  }
 },
 "nbformat": 4,
 "nbformat_minor": 5
}
